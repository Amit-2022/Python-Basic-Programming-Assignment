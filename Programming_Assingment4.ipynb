{
 "cells": [
  {
   "cell_type": "markdown",
   "id": "b4cddcd2",
   "metadata": {},
   "source": [
    "1.\tWrite a Python Program to Find the Factorial of a Number?"
   ]
  },
  {
   "cell_type": "code",
   "execution_count": 11,
   "id": "f2ce9018",
   "metadata": {},
   "outputs": [
    {
     "name": "stdout",
     "output_type": "stream",
     "text": [
      "Enter the Number 5\n",
      "The factorial of the Number is  24\n"
     ]
    }
   ],
   "source": [
    "n=int(input(\"Enter the Number \"))\n",
    "fact=1\n",
    "if n < 0:\n",
    "    print(\"Can not calculate Factorial of a negative number\")\n",
    "elif n == 0:\n",
    "    print(\"Factorial of zero is 1\")\n",
    "else:\n",
    "    for i in range(1,n):\n",
    "        fact=fact*i\n",
    "    print(\"The factorial of the Number is \" ,fact)"
   ]
  },
  {
   "cell_type": "markdown",
   "id": "0c9a0f3d",
   "metadata": {},
   "source": [
    "2.\tWrite a Python Program to Display the multiplication Table?"
   ]
  },
  {
   "cell_type": "code",
   "execution_count": 27,
   "id": "13ba18c5",
   "metadata": {},
   "outputs": [
    {
     "name": "stdout",
     "output_type": "stream",
     "text": [
      "Enter the Number 12\n",
      "The Table of 12 with 12 x 1 ja  equal to 12 \n",
      "The Table of 12 with 12 x 2 ja  equal to 24 \n",
      "The Table of 12 with 12 x 3 ja  equal to 36 \n",
      "The Table of 12 with 12 x 4 ja  equal to 48 \n",
      "The Table of 12 with 12 x 5 ja  equal to 60 \n",
      "The Table of 12 with 12 x 6 ja  equal to 72 \n",
      "The Table of 12 with 12 x 7 ja  equal to 84 \n",
      "The Table of 12 with 12 x 8 ja  equal to 96 \n",
      "The Table of 12 with 12 x 9 ja  equal to 108 \n",
      "The Table of 12 with 12 x 10 ja  equal to 120 \n"
     ]
    }
   ],
   "source": [
    "n=int(input(\"Enter the Number \"))\n",
    "fact=1\n",
    "if n < 0:\n",
    "    print(\"Can not calculate Table of a negative number\")\n",
    "elif n == 0:\n",
    "    print(\"Table of zero is 0\")\n",
    "else:\n",
    "    for i in range(1,11):\n",
    "        fact=n*i\n",
    "        print(\"The Table of {0} with {0} x {1} ja  equal to {2} \" .format(n,i,fact))"
   ]
  },
  {
   "cell_type": "markdown",
   "id": "ff99f7ed",
   "metadata": {},
   "source": [
    "3.\tWrite a Python Program to Print the Fibonacci sequence?"
   ]
  },
  {
   "cell_type": "code",
   "execution_count": 38,
   "id": "b89296b7",
   "metadata": {},
   "outputs": [
    {
     "name": "stdout",
     "output_type": "stream",
     "text": [
      "How many terms? 5\n",
      "Fibonacci sequence:\n",
      "0 1 1 2 3 "
     ]
    }
   ],
   "source": [
    "# Program to display the Fibonacci sequence up to n-th term\n",
    "\n",
    "nterms = int(input(\"How many terms? \"))\n",
    "\n",
    "# first two terms\n",
    "n1, n2 = 0, 1\n",
    "count = 0\n",
    "\n",
    "# check if the number of terms is valid\n",
    "if nterms <= 0:\n",
    "   print(\"Please enter a positive integer\")\n",
    "# if there is only one term, return n1\n",
    "elif nterms == 1:\n",
    "   print(\"Fibonacci sequence upto\",nterms,\":\")\n",
    "   print(n1,end =\" \")\n",
    "# generate fibonacci sequence\n",
    "else:\n",
    "   print(\"Fibonacci sequence:\")\n",
    "   while count < nterms:\n",
    "       print(n1,end =\" \")\n",
    "       nth = n1 + n2\n",
    "       # update values\n",
    "       n1 = n2\n",
    "       n2 = nth\n",
    "       count += 1\n",
    "        \n",
    "    \n",
    "     \n",
    "    "
   ]
  },
  {
   "cell_type": "markdown",
   "id": "cc6c0c52",
   "metadata": {},
   "source": [
    "4.\tWrite a Python Program to Check Armstrong Number?"
   ]
  },
  {
   "cell_type": "code",
   "execution_count": 44,
   "id": "ca6f7229",
   "metadata": {},
   "outputs": [
    {
     "name": "stdout",
     "output_type": "stream",
     "text": [
      "Enter the Number 153\n",
      "153 is an Armstrong number\n"
     ]
    }
   ],
   "source": [
    "num = int(input(\"Enter the Number \"))\n",
    "\n",
    "sum=0\n",
    "temp =num\n",
    "while temp >0:\n",
    "    digit =temp%10\n",
    "    sum +=digit**3\n",
    "    temp//=10\n",
    "\n",
    "if num==sum:\n",
    "    print(num,\"is an Armstrong number\")\n",
    "else:\n",
    "    print(num,\"is not an Armstrong number\")\n",
    "\n"
   ]
  },
  {
   "cell_type": "markdown",
   "id": "15d0e243",
   "metadata": {},
   "source": [
    "5.\tWrite a Python Program to Find Armstrong Number in an Interval?"
   ]
  },
  {
   "cell_type": "code",
   "execution_count": 48,
   "id": "e8c4930e",
   "metadata": {},
   "outputs": [
    {
     "name": "stdout",
     "output_type": "stream",
     "text": [
      "Lower limit : 1\n",
      "Upper limit : 500\n",
      "153\n",
      "370\n",
      "371\n",
      "407\n"
     ]
    }
   ],
   "source": [
    "## fining for a range of numbers\n",
    "low = int(input(\"Lower limit : \"))\n",
    "up = int(input(\"Upper limit : \"))\n",
    "\n",
    "for num in range(low,up+1):\n",
    "    if (num >9):\n",
    "        temp = num\n",
    "        sum = 0\n",
    "    while temp > 0:\n",
    "        digit = temp % 10\n",
    "        sum += digit ** power\n",
    "        temp //=10\n",
    "    if num == sum :\n",
    "        print(num)"
   ]
  },
  {
   "cell_type": "markdown",
   "id": "b93b7f6c",
   "metadata": {},
   "source": [
    "6.\tWrite a Python Program to Find the Sum of Natural Numbers?"
   ]
  },
  {
   "cell_type": "code",
   "execution_count": 52,
   "id": "e712b761",
   "metadata": {},
   "outputs": [
    {
     "name": "stdout",
     "output_type": "stream",
     "text": [
      "Enter the Number of terms 5\n",
      "Sum of natural numbers upto 5 is 15\n"
     ]
    }
   ],
   "source": [
    "n=int(input(\"Enter the Number of terms \"))\n",
    "sum=0\n",
    "if (n<0):\n",
    "    print(\"Please enter a postive sequence value \")\n",
    "elif (n==0):\n",
    "    print(\"The sum is 0\")\n",
    "else:\n",
    "    for i in range(0,n+1):\n",
    "        sum+=i\n",
    "    print(\"Sum of natural numbers upto {} is {}\".format(n,sum))\n",
    "        "
   ]
  },
  {
   "cell_type": "code",
   "execution_count": null,
   "id": "edec5cd3",
   "metadata": {},
   "outputs": [],
   "source": []
  }
 ],
 "metadata": {
  "kernelspec": {
   "display_name": "Python 3 (ipykernel)",
   "language": "python",
   "name": "python3"
  },
  "language_info": {
   "codemirror_mode": {
    "name": "ipython",
    "version": 3
   },
   "file_extension": ".py",
   "mimetype": "text/x-python",
   "name": "python",
   "nbconvert_exporter": "python",
   "pygments_lexer": "ipython3",
   "version": "3.9.7"
  }
 },
 "nbformat": 4,
 "nbformat_minor": 5
}
