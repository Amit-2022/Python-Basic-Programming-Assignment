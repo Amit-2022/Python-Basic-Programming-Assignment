{
 "cells": [
  {
   "cell_type": "markdown",
   "id": "4d92a931",
   "metadata": {},
   "source": [
    "1.\tWrite a Python program to find sum of elements in list?"
   ]
  },
  {
   "cell_type": "code",
   "execution_count": 1,
   "id": "933fb58e",
   "metadata": {},
   "outputs": [
    {
     "name": "stdout",
     "output_type": "stream",
     "text": [
      "10\n"
     ]
    }
   ],
   "source": [
    "l=[1,2,3,4]\n",
    "sum=0\n",
    "for i in l:\n",
    "    sum+=i\n",
    "print(sum)"
   ]
  },
  {
   "cell_type": "markdown",
   "id": "670c05cb",
   "metadata": {},
   "source": [
    "2.\tWrite a Python program to  Multiply all numbers in the list?"
   ]
  },
  {
   "cell_type": "code",
   "execution_count": 4,
   "id": "9b892a05",
   "metadata": {},
   "outputs": [
    {
     "name": "stdout",
     "output_type": "stream",
     "text": [
      "24\n"
     ]
    }
   ],
   "source": [
    "l=[1,2,3,4]\n",
    "mul=1\n",
    "for i in l:\n",
    "    mul*=i\n",
    "print(mul)"
   ]
  },
  {
   "cell_type": "markdown",
   "id": "6d166ede",
   "metadata": {},
   "source": [
    "3.\tWrite a Python program to find smallest number in a list?"
   ]
  },
  {
   "cell_type": "code",
   "execution_count": 5,
   "id": "1ee44971",
   "metadata": {},
   "outputs": [
    {
     "data": {
      "text/plain": [
       "1"
      ]
     },
     "execution_count": 5,
     "metadata": {},
     "output_type": "execute_result"
    }
   ],
   "source": [
    "l=[1,2,3,4]\n",
    "min(l)"
   ]
  },
  {
   "cell_type": "code",
   "execution_count": 12,
   "id": "c19c0696",
   "metadata": {},
   "outputs": [
    {
     "name": "stdout",
     "output_type": "stream",
     "text": [
      "2\n"
     ]
    }
   ],
   "source": [
    "l=[10,2,30,41]\n",
    "min=l[0]\n",
    "for i in l:\n",
    "    if i<min:\n",
    "        min=i\n",
    "print(min)"
   ]
  },
  {
   "cell_type": "markdown",
   "id": "9b8d5548",
   "metadata": {},
   "source": [
    "4.\tWrite a Python program to find largest number in a list?"
   ]
  },
  {
   "cell_type": "code",
   "execution_count": 13,
   "id": "23505487",
   "metadata": {},
   "outputs": [
    {
     "data": {
      "text/plain": [
       "4"
      ]
     },
     "execution_count": 13,
     "metadata": {},
     "output_type": "execute_result"
    }
   ],
   "source": [
    "l=[1,2,3,4]\n",
    "max(l)"
   ]
  },
  {
   "cell_type": "code",
   "execution_count": 14,
   "id": "8297f0c0",
   "metadata": {},
   "outputs": [
    {
     "name": "stdout",
     "output_type": "stream",
     "text": [
      "41\n"
     ]
    }
   ],
   "source": [
    "l=[10,2,30,41]\n",
    "max=l[0]\n",
    "for i in l:\n",
    "    if i>max:\n",
    "        max=i\n",
    "print(max)"
   ]
  },
  {
   "cell_type": "markdown",
   "id": "5df6ad18",
   "metadata": {},
   "source": [
    "5.\tWrite a Python program to find second largest number in a list?"
   ]
  },
  {
   "cell_type": "code",
   "execution_count": 4,
   "id": "7e71e7f4",
   "metadata": {},
   "outputs": [
    {
     "data": {
      "text/plain": [
       "3"
      ]
     },
     "execution_count": 4,
     "metadata": {},
     "output_type": "execute_result"
    }
   ],
   "source": [
    "l=[1,2,3,4]\n",
    "l.remove(max(l))\n",
    "max(l)"
   ]
  },
  {
   "cell_type": "code",
   "execution_count": 5,
   "id": "2e9c1795",
   "metadata": {},
   "outputs": [
    {
     "name": "stdout",
     "output_type": "stream",
     "text": [
      "Second highest number is :  45\n"
     ]
    }
   ],
   "source": [
    "list1 = [10, 20, 4, 45, 99]\n",
    " \n",
    "mx=max(list1[0],list1[1])\n",
    "secondmax=min(list1[0],list1[1])\n",
    "n =len(list1)\n",
    "for i in range(2,n):\n",
    "    if list1[i]>mx:\n",
    "        secondmax=mx\n",
    "        mx=list1[i]\n",
    "    elif list1[i]>secondmax and \\\n",
    "        mx != list1[i]:\n",
    "        secondmax=list1[i]\n",
    " \n",
    "print(\"Second highest number is : \",\\\n",
    "      str(secondmax))"
   ]
  },
  {
   "cell_type": "markdown",
   "id": "a0dd358d",
   "metadata": {},
   "source": [
    "6.\tWrite a Python program to find N largest elements from a list?"
   ]
  },
  {
   "cell_type": "code",
   "execution_count": 6,
   "id": "a2049f70",
   "metadata": {},
   "outputs": [
    {
     "name": "stdout",
     "output_type": "stream",
     "text": [
      "[85, 41]\n"
     ]
    }
   ],
   "source": [
    "def Nmaxelements(list1, N):\n",
    "    final_list = []\n",
    "  \n",
    "    for i in range(0, N): \n",
    "        max1 = 0\n",
    "          \n",
    "        for j in range(len(list1)):     \n",
    "            if list1[j] > max1:\n",
    "                max1 = list1[j];\n",
    "                  \n",
    "        list1.remove(max1);\n",
    "        final_list.append(max1)\n",
    "          \n",
    "    print(final_list)\n",
    "  \n",
    "# Driver code\n",
    "list1 = [2, 6, 41, 85, 0, 3, 7, 6, 10]\n",
    "N = 2\n",
    "  \n",
    "# Calling the function\n",
    "Nmaxelements(list1, N)"
   ]
  },
  {
   "cell_type": "markdown",
   "id": "6651b4ce",
   "metadata": {},
   "source": [
    "7.\tWrite a Python program to print even numbers in a list?"
   ]
  },
  {
   "cell_type": "code",
   "execution_count": 7,
   "id": "d416cf02",
   "metadata": {},
   "outputs": [
    {
     "name": "stdout",
     "output_type": "stream",
     "text": [
      "10 4 66 "
     ]
    }
   ],
   "source": [
    "# Python program to print Even Numbers in a List\n",
    " \n",
    "# list of numbers\n",
    "list1 = [10, 21, 4, 45, 66, 93]\n",
    " \n",
    "# iterating each number in list\n",
    "for num in list1:\n",
    " \n",
    "    # checking condition\n",
    "    if num % 2 == 0:\n",
    "        print(num, end=\" \")"
   ]
  },
  {
   "cell_type": "markdown",
   "id": "d231433d",
   "metadata": {},
   "source": [
    "8.\tWrite a Python program to print odd numbers in a List?"
   ]
  },
  {
   "cell_type": "code",
   "execution_count": 8,
   "id": "def84958",
   "metadata": {},
   "outputs": [
    {
     "name": "stdout",
     "output_type": "stream",
     "text": [
      "21 45 93 "
     ]
    }
   ],
   "source": [
    "# Python program to print odd Numbers in a List\n",
    " \n",
    "# list of numbers\n",
    "list1 = [10, 21, 4, 45, 66, 93]\n",
    " \n",
    "# iterating each number in list\n",
    "for num in list1:\n",
    " \n",
    "    # checking condition\n",
    "    if num % 2 == 1:\n",
    "        print(num, end=\" \")"
   ]
  },
  {
   "cell_type": "markdown",
   "id": "799ab3c1",
   "metadata": {},
   "source": [
    "9.\tWrite a Python program to Remove empty List from List?"
   ]
  },
  {
   "cell_type": "code",
   "execution_count": 9,
   "id": "25d5620d",
   "metadata": {},
   "outputs": [
    {
     "name": "stdout",
     "output_type": "stream",
     "text": [
      "[['ram', '15', '8'], ['laxman', 'sita'], ['krishna', 'akbar', '45'], ['', '']]\n"
     ]
    }
   ],
   "source": [
    "\n",
    "# Python program to remove empty tuples from a \n",
    "# list of tuples function to remove empty tuples \n",
    "# using list comprehension\n",
    "def Remove(list):\n",
    "    list = [l for l in list if l]\n",
    "    return list\n",
    "  \n",
    "# Driver Code\n",
    "list = [[], ['ram','15','8'], [], ['laxman', 'sita'], \n",
    "          ['krishna', 'akbar', '45'], ['',''],[]]\n",
    "print(Remove(list))"
   ]
  },
  {
   "cell_type": "markdown",
   "id": "0e048719",
   "metadata": {},
   "source": [
    "10.\tWrite a Python program to Cloning or Copying a list?"
   ]
  },
  {
   "cell_type": "code",
   "execution_count": 10,
   "id": "7e332a6d",
   "metadata": {},
   "outputs": [
    {
     "name": "stdout",
     "output_type": "stream",
     "text": [
      "Original List: [4, 8, 2, 10, 15, 18]\n",
      "After Cloning: [4, 8, 2, 10, 15, 18]\n"
     ]
    }
   ],
   "source": [
    "# Python program to copy or clone a list\n",
    "# Using the Slice Operator\n",
    "def Cloning(li1):\n",
    "    li_copy = li1[:]\n",
    "    return li_copy\n",
    "   \n",
    "# Driver Code\n",
    "li1 = [4, 8, 2, 10, 15, 18]\n",
    "li2 = Cloning(li1)\n",
    "print(\"Original List:\", li1)\n",
    "print(\"After Cloning:\", li2)"
   ]
  },
  {
   "cell_type": "markdown",
   "id": "0df14f98",
   "metadata": {},
   "source": [
    "11.\tWrite a Python program to Count occurrences of an element in a list?"
   ]
  },
  {
   "cell_type": "code",
   "execution_count": 11,
   "id": "ca686d34",
   "metadata": {},
   "outputs": [
    {
     "name": "stdout",
     "output_type": "stream",
     "text": [
      "8 has occurred 5 times\n"
     ]
    }
   ],
   "source": [
    "# Python code to count the number of occurrences\n",
    "def countX(lst, x):\n",
    "    count = 0\n",
    "    for ele in lst:\n",
    "        if (ele == x):\n",
    "            count = count + 1\n",
    "    return count\n",
    " \n",
    "# Driver Code\n",
    "lst = [8, 6, 8, 10, 8, 20, 10, 8, 8]\n",
    "x = 8\n",
    "print('{} has occurred {} times'.format(x, countX(lst, x)))"
   ]
  },
  {
   "cell_type": "code",
   "execution_count": null,
   "id": "afcdcffb",
   "metadata": {},
   "outputs": [],
   "source": []
  }
 ],
 "metadata": {
  "kernelspec": {
   "display_name": "Python 3 (ipykernel)",
   "language": "python",
   "name": "python3"
  },
  "language_info": {
   "codemirror_mode": {
    "name": "ipython",
    "version": 3
   },
   "file_extension": ".py",
   "mimetype": "text/x-python",
   "name": "python",
   "nbconvert_exporter": "python",
   "pygments_lexer": "ipython3",
   "version": "3.9.7"
  }
 },
 "nbformat": 4,
 "nbformat_minor": 5
}
