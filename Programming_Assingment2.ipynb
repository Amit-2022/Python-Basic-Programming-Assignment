{
 "cells": [
  {
   "cell_type": "markdown",
   "id": "565d722a",
   "metadata": {},
   "source": [
    "1.\tWrite a Python program to convert kilometers to miles?"
   ]
  },
  {
   "cell_type": "code",
   "execution_count": 5,
   "id": "f8c63121",
   "metadata": {},
   "outputs": [
    {
     "name": "stdout",
     "output_type": "stream",
     "text": [
      "Enter kilometers :10.365\n",
      "10.365 kilometers is equal to 6.437 miles\n"
     ]
    }
   ],
   "source": [
    "kilometers = float(input(\"Enter kilometers :\"))\n",
    "conversionUnit = 0.621\n",
    "miles = kilometers * conversionUnit\n",
    "print(\"%0.3f kilometers is equal to %0.3f miles\"%(kilometers,miles))"
   ]
  },
  {
   "cell_type": "markdown",
   "id": "8f958169",
   "metadata": {},
   "source": [
    "2.\tWrite a Python program to convert Celsius to Fahrenheit?"
   ]
  },
  {
   "cell_type": "code",
   "execution_count": 8,
   "id": "2ecfa4b7",
   "metadata": {},
   "outputs": [
    {
     "name": "stdout",
     "output_type": "stream",
     "text": [
      "Enter Celsius  :36\n",
      "36.0 Celsius is equal to 96.8 Fahrenheit\n"
     ]
    }
   ],
   "source": [
    "Celsius  = float(input(\"Enter Celsius  :\"))\n",
    "conversionUnit=32\n",
    "Fahrenheit = (Celsius * 9/5)+conversionUnit\n",
    "print(\"%0.1f Celsius is equal to %0.1f Fahrenheit\"%(Celsius,Fahrenheit))"
   ]
  },
  {
   "cell_type": "markdown",
   "id": "0b3c4dbe",
   "metadata": {},
   "source": [
    "3.\tWrite a Python program to display calendar?"
   ]
  },
  {
   "cell_type": "code",
   "execution_count": 9,
   "id": "721c924d",
   "metadata": {},
   "outputs": [
    {
     "name": "stdout",
     "output_type": "stream",
     "text": [
      " Enter Year : 2022\n",
      "Enter Month : 3\n",
      "Calender\n",
      "     March 2022\n",
      "Mo Tu We Th Fr Sa Su\n",
      "    1  2  3  4  5  6\n",
      " 7  8  9 10 11 12 13\n",
      "14 15 16 17 18 19 20\n",
      "21 22 23 24 25 26 27\n",
      "28 29 30 31\n",
      "\n"
     ]
    }
   ],
   "source": [
    "import calendar\n",
    "\n",
    "y = int(input(\" Enter Year : \"))\n",
    "m = int(input(\"Enter Month : \"))\n",
    "\n",
    "try :\n",
    "    print(\"Calender\")\n",
    "    print(calendar.month(y,m))\n",
    "except:\n",
    "    print(\"Out of range\")"
   ]
  },
  {
   "cell_type": "markdown",
   "id": "d1cd103c",
   "metadata": {},
   "source": [
    "4.\tWrite a Python program to solve quadratic equation?\n",
    "\n",
    "- quadratic equation ax^2+bx+c=0\n",
    "a, b, c =   known numbers, where a ≠ 0\n",
    "x   =   the unknown\n",
    "- descriminant = b**2 - (4* a * c)\n",
    "- x1 = (-b-sqrt(d))/2 , x2 = (b-sqrt(d))/2"
   ]
  },
  {
   "cell_type": "code",
   "execution_count": 16,
   "id": "e0b5aec1",
   "metadata": {},
   "outputs": [
    {
     "name": "stdout",
     "output_type": "stream",
     "text": [
      "Enter the Co-Effn of a 1\n",
      "Enter the Co-Effn of b 0\n",
      "Enter the Co-Effn of c -4\n",
      "The solution  are (-2+0j) and (2+0j)  \n"
     ]
    }
   ],
   "source": [
    "import cmath\n",
    "\n",
    "a = int(input(\"Enter the Co-Effn of a \"))\n",
    "b = int(input(\"Enter the Co-Effn of b \"))\n",
    "c = int(input(\"Enter the Co-Effn of c \"))\n",
    "\n",
    "d = (b**2) - (4*a*c)\n",
    "\n",
    "sol1 = (-b-cmath.sqrt(d))/(2*a)\n",
    "sol2 = (-b+cmath.sqrt(d))/(2*a)\n",
    "\n",
    "print(\"The solution  are {0} and {1}  \" .format(sol1,sol2))"
   ]
  },
  {
   "cell_type": "markdown",
   "id": "8bf7e812",
   "metadata": {},
   "source": [
    "5.\tWrite a Python program to swap two variables without temp variable?"
   ]
  },
  {
   "cell_type": "code",
   "execution_count": 19,
   "id": "6d729a84",
   "metadata": {},
   "outputs": [
    {
     "name": "stdout",
     "output_type": "stream",
     "text": [
      "Enter First Number 1\n",
      "Enter second Number 2\n",
      "The Numbers after swap are   2 1\n"
     ]
    }
   ],
   "source": [
    "a=input(\"Enter First Number \")\n",
    "b=input(\"Enter second Number \")\n",
    "\n",
    "a,b=b,a\n",
    "\n",
    "print(\"The Numbers after swap are  \", a,b)"
   ]
  }
 ],
 "metadata": {
  "kernelspec": {
   "display_name": "Python 3 (ipykernel)",
   "language": "python",
   "name": "python3"
  },
  "language_info": {
   "codemirror_mode": {
    "name": "ipython",
    "version": 3
   },
   "file_extension": ".py",
   "mimetype": "text/x-python",
   "name": "python",
   "nbconvert_exporter": "python",
   "pygments_lexer": "ipython3",
   "version": "3.9.7"
  }
 },
 "nbformat": 4,
 "nbformat_minor": 5
}
