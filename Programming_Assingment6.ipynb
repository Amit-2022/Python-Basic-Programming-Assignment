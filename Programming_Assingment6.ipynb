{
 "cells": [
  {
   "cell_type": "markdown",
   "id": "c3cb0ff9",
   "metadata": {},
   "source": [
    "1.\tWrite a Python Program to Display Fibonacci Sequence Using Recursion?"
   ]
  },
  {
   "cell_type": "code",
   "execution_count": 7,
   "id": "b6a2833b",
   "metadata": {},
   "outputs": [
    {
     "name": "stdout",
     "output_type": "stream",
     "text": [
      "enter a number to find the fibonacci series : 10\n",
      "Fibonacci series upto  10 :\n",
      "0 1 1 2 3 5 8 13 21 34 "
     ]
    }
   ],
   "source": [
    "# Fibonacci series - > 1, 1, 2, 3, 5,8,13........\n",
    "def fibo(n):\n",
    "    if n <= 1:\n",
    "        return n\n",
    "    else:\n",
    "        return fibo(n-1) +  fibo(n-2)\n",
    "sequence = int(input(\"enter a number to find the fibonacci series : \"))\n",
    "if sequence <= 0:\n",
    "    print(\"Please enter a positive number\")\n",
    "elif sequence == 1:\n",
    "    print(\"Fibonacci series upto \",sequence, \":\")\n",
    "    print(0)\n",
    "else:\n",
    "    print(\"Fibonacci series upto \",sequence, \":\")\n",
    "    for i in range(sequence):       \n",
    "        print(fibo(i),end=' ')"
   ]
  },
  {
   "cell_type": "markdown",
   "id": "23a42fa0",
   "metadata": {},
   "source": [
    "2.\tWrite a Python Program to Find Factorial of Number Using Recursion?"
   ]
  },
  {
   "cell_type": "code",
   "execution_count": 13,
   "id": "13787a60",
   "metadata": {},
   "outputs": [
    {
     "name": "stdout",
     "output_type": "stream",
     "text": [
      "enter a number to find the factorial series : 5\n",
      "factorial series upto  5 :\n",
      "120\n"
     ]
    }
   ],
   "source": [
    "def fact(n):\n",
    "    if n <= 1:\n",
    "        return n\n",
    "    else:\n",
    "        return n*fact(n-1)\n",
    "sequence = int(input(\"enter a number to find the factorial series : \"))\n",
    "if sequence <= 0:\n",
    "    print(\"Please enter a positive number\")\n",
    "elif sequence == 1:\n",
    "    print(\"factorial series upto \",sequence, \":\")\n",
    "    print(1)\n",
    "else:\n",
    "    print(\"factorial series upto \",sequence, \":\")       \n",
    "    print(fact(sequence))"
   ]
  },
  {
   "cell_type": "markdown",
   "id": "a0ebd055",
   "metadata": {},
   "source": [
    "3.\tWrite a Python Program to calculate your Body Mass Index?"
   ]
  },
  {
   "cell_type": "code",
   "execution_count": 15,
   "id": "f81f0660",
   "metadata": {},
   "outputs": [
    {
     "name": "stdout",
     "output_type": "stream",
     "text": [
      "enter height in cm :  170\n",
      "enter weight in kg : 70\n",
      "24.221453287197235\n",
      "Normal\n"
     ]
    }
   ],
   "source": [
    "height=int(input(\"enter height in cm :  \"))\n",
    "weight=int(input(\"enter weight in kg : \"))\n",
    "height_m=height/100\n",
    "bmi=weight/(height_m**2)\n",
    "print(bmi)\n",
    "if bmi <16:\n",
    "    print(\"Severe Thinness\")\n",
    "elif bmi >16 and bmi<=17:\n",
    "    print(\"Moderate  Thinness\")\n",
    "elif bmi >17 and bmi<=18.5:\n",
    "    print(\"Mild   Thinness\")\n",
    "elif bmi >18.5 and bmi<=25:\n",
    "    print(\"Normal\")\n",
    "elif bmi >25 and bmi<=30:\n",
    "    print(\"Overweight\")\n",
    "elif bmi >30  and bmi<=35:\n",
    "    print(\"Obese Class I\")\n",
    "elif bmi >35 and bmi<=40:\n",
    "    print(\"Obese Class II\")\n",
    "elif bmi >40:\n",
    "    print(\"Obese Class III\")\n",
    "    "
   ]
  },
  {
   "cell_type": "markdown",
   "id": "c28969ae",
   "metadata": {},
   "source": [
    "4.\tWrite a Python Program to calculate the natural logarithm of any number?"
   ]
  },
  {
   "cell_type": "code",
   "execution_count": 16,
   "id": "844b02f5",
   "metadata": {},
   "outputs": [
    {
     "name": "stdout",
     "output_type": "stream",
     "text": [
      "Enter a number : 10\n",
      "Log of 10 is 2.302585092994046\n"
     ]
    }
   ],
   "source": [
    "import math\n",
    "x = int(input((\"Enter a number : \")))\n",
    "log = math.log(x)\n",
    "print(\"Log of {} is {}\".format(x, log))"
   ]
  },
  {
   "cell_type": "markdown",
   "id": "728d391c",
   "metadata": {},
   "source": [
    "5.\tWrite a Python Program for cube sum of first n natural numbers?"
   ]
  },
  {
   "cell_type": "code",
   "execution_count": 27,
   "id": "58bbd09c",
   "metadata": {},
   "outputs": [
    {
     "name": "stdout",
     "output_type": "stream",
     "text": [
      "Enter n : 3\n",
      "36.0\n"
     ]
    }
   ],
   "source": [
    "n = int(input(\"Enter n : \"))\n",
    "sum=((n**2)*((n+1)**2))/4\n",
    "print(sum)"
   ]
  },
  {
   "cell_type": "code",
   "execution_count": null,
   "id": "d4634b15",
   "metadata": {},
   "outputs": [],
   "source": []
  },
  {
   "cell_type": "code",
   "execution_count": null,
   "id": "f7e4eaec",
   "metadata": {},
   "outputs": [],
   "source": []
  }
 ],
 "metadata": {
  "kernelspec": {
   "display_name": "Python 3 (ipykernel)",
   "language": "python",
   "name": "python3"
  },
  "language_info": {
   "codemirror_mode": {
    "name": "ipython",
    "version": 3
   },
   "file_extension": ".py",
   "mimetype": "text/x-python",
   "name": "python",
   "nbconvert_exporter": "python",
   "pygments_lexer": "ipython3",
   "version": "3.9.7"
  }
 },
 "nbformat": 4,
 "nbformat_minor": 5
}
