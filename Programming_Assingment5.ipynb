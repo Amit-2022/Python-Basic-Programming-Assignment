{
 "cells": [
  {
   "cell_type": "markdown",
   "id": "a94e15ed",
   "metadata": {},
   "source": [
    "1.\tWrite a Python Program to Find LCM?"
   ]
  },
  {
   "cell_type": "code",
   "execution_count": 1,
   "id": "826232ae",
   "metadata": {},
   "outputs": [],
   "source": [
    "import math\n",
    "def LCMofArray(a):\n",
    "    lcm=int(a[0])\n",
    "    for i in range(1,len(a)):\n",
    "        lcm=(lcm*a[i])//math.gcd(lcm,int(a[i]))\n",
    "    return lcm\n",
    "        "
   ]
  },
  {
   "cell_type": "code",
   "execution_count": 4,
   "id": "69a87f46",
   "metadata": {},
   "outputs": [
    {
     "data": {
      "text/plain": [
       "10920"
      ]
     },
     "execution_count": 4,
     "metadata": {},
     "output_type": "execute_result"
    }
   ],
   "source": [
    "LCMofArray([8,4,12,40,26,28])"
   ]
  },
  {
   "cell_type": "markdown",
   "id": "3a234ba3",
   "metadata": {},
   "source": [
    "2.\tWrite a Python Program to Find HCF?"
   ]
  },
  {
   "cell_type": "code",
   "execution_count": 13,
   "id": "221543c9",
   "metadata": {},
   "outputs": [],
   "source": [
    "import math\n",
    "\n",
    "def HCFofArray(a):\n",
    "    gcd1=int(a[0])\n",
    "    for i in range(1,len(a)):\n",
    "        gcd1=math.gcd(gcd1,int(a[i]))\n",
    "    return gcd1"
   ]
  },
  {
   "cell_type": "code",
   "execution_count": 15,
   "id": "19d59515",
   "metadata": {},
   "outputs": [
    {
     "data": {
      "text/plain": [
       "2"
      ]
     },
     "execution_count": 15,
     "metadata": {},
     "output_type": "execute_result"
    }
   ],
   "source": [
    "HCFofArray([8,4,12,40,26,28])"
   ]
  },
  {
   "cell_type": "markdown",
   "id": "59a44703",
   "metadata": {},
   "source": [
    "3.\tWrite a Python Program to Convert Decimal to Binary, Octal and Hexadecimal?"
   ]
  },
  {
   "cell_type": "code",
   "execution_count": 58,
   "id": "cefd0599",
   "metadata": {},
   "outputs": [],
   "source": [
    "def dectobin(a):\n",
    "    l=[]\n",
    "    while a/2 != 0:\n",
    "        l.append(a%2)\n",
    "        a=int(a/2)\n",
    "    l=l[::-1]\n",
    "    s=''.join(map(str,l))\n",
    "    return s\n",
    "        "
   ]
  },
  {
   "cell_type": "code",
   "execution_count": 59,
   "id": "27944e0d",
   "metadata": {},
   "outputs": [
    {
     "data": {
      "text/plain": [
       "'1111'"
      ]
     },
     "execution_count": 59,
     "metadata": {},
     "output_type": "execute_result"
    }
   ],
   "source": [
    "dectobin(15)"
   ]
  },
  {
   "cell_type": "code",
   "execution_count": 60,
   "id": "581f4d38",
   "metadata": {},
   "outputs": [],
   "source": [
    "def dectooct(a):\n",
    "    l=[]\n",
    "    while a/8 != 0:\n",
    "        l.append(a%8)\n",
    "        a=int(a/8)\n",
    "    l=l[::-1]\n",
    "    s=''.join(map(str,l))\n",
    "    return s"
   ]
  },
  {
   "cell_type": "code",
   "execution_count": 61,
   "id": "744b9794",
   "metadata": {},
   "outputs": [
    {
     "data": {
      "text/plain": [
       "'17'"
      ]
     },
     "execution_count": 61,
     "metadata": {},
     "output_type": "execute_result"
    }
   ],
   "source": [
    "dectooct(15)"
   ]
  },
  {
   "cell_type": "code",
   "execution_count": 64,
   "id": "1f1cbe68",
   "metadata": {},
   "outputs": [],
   "source": [
    "def dectohex(a):\n",
    "    l=[]\n",
    "    while a/16 != 0:\n",
    "        if a%16<9:\n",
    "            l.append(a%16)\n",
    "        else:\n",
    "            if a%16==10:\n",
    "                l.append('A')\n",
    "            elif a%16==11:\n",
    "                l.append('B')\n",
    "            elif a%16==12:\n",
    "                l.append('C')\n",
    "            elif a%16==13:\n",
    "                l.append('D')\n",
    "            elif a%16==14:\n",
    "                l.append('E')\n",
    "            elif a%16==15:\n",
    "                l.append('F')\n",
    "                \n",
    "        a=int(a/16)\n",
    "    l=l[::-1]\n",
    "    s=''.join(map(str,l))\n",
    "    return s"
   ]
  },
  {
   "cell_type": "code",
   "execution_count": 65,
   "id": "d5d05393",
   "metadata": {},
   "outputs": [
    {
     "data": {
      "text/plain": [
       "'F'"
      ]
     },
     "execution_count": 65,
     "metadata": {},
     "output_type": "execute_result"
    }
   ],
   "source": [
    "dectohex(15)"
   ]
  },
  {
   "cell_type": "markdown",
   "id": "93b30b83",
   "metadata": {},
   "source": [
    "4.\tWrite a Python Program To Find ASCII value of a character?"
   ]
  },
  {
   "cell_type": "code",
   "execution_count": 66,
   "id": "817ea647",
   "metadata": {},
   "outputs": [],
   "source": [
    "def getascii():\n",
    "    ch=input(\"enter the character for which you need acii value\")\n",
    "    return ord(ch)"
   ]
  },
  {
   "cell_type": "code",
   "execution_count": 67,
   "id": "58a24d1e",
   "metadata": {},
   "outputs": [
    {
     "name": "stdout",
     "output_type": "stream",
     "text": [
      "enter the character for which you need acii valueA\n"
     ]
    },
    {
     "data": {
      "text/plain": [
       "65"
      ]
     },
     "execution_count": 67,
     "metadata": {},
     "output_type": "execute_result"
    }
   ],
   "source": [
    "getascii()"
   ]
  },
  {
   "cell_type": "markdown",
   "id": "c91e3a4b",
   "metadata": {},
   "source": [
    "5.\tWrite a Python Program to Make a Simple Calculator with 4 basic mathematical operations?"
   ]
  },
  {
   "cell_type": "code",
   "execution_count": 73,
   "id": "ac32f553",
   "metadata": {},
   "outputs": [
    {
     "name": "stdout",
     "output_type": "stream",
     "text": [
      "Select operation.\n",
      "1.Add\n",
      "2.Subtract\n",
      "3.Multiply\n",
      "4.Divide\n",
      "Enter choice(1/2/3/4): 4\n",
      "Enter first number: 2315\n",
      "Enter second number: 0\n",
      "2315.0 / 0.0 = float division by zero\n",
      "Let's do next calculation? (yes/no): n\n",
      "Enter choice(1/2/3/4): no\n",
      "Invalid Input\n",
      "Enter choice(1/2/3/4): 1\n",
      "Enter first number: 12\n",
      "Enter second number: 032\n",
      "12.0 + 32.0 = 44.0\n",
      "Let's do next calculation? (yes/no): no\n"
     ]
    }
   ],
   "source": [
    "# Program make a simple calculator\n",
    "\n",
    "# This function adds two numbers\n",
    "def add(x, y):\n",
    "    return x + y\n",
    "\n",
    "# This function subtracts two numbers\n",
    "def subtract(x, y):\n",
    "    return x - y\n",
    "\n",
    "# This function multiplies two numbers\n",
    "def multiply(x, y):\n",
    "    return x * y\n",
    "\n",
    "# This function divides two numbers\n",
    "def divide(x, y):\n",
    "    try:\n",
    "        return x / y\n",
    "    except Exception as e:\n",
    "        return e\n",
    "\n",
    "\n",
    "print(\"Select operation.\")\n",
    "print(\"1.Add\")\n",
    "print(\"2.Subtract\")\n",
    "print(\"3.Multiply\")\n",
    "print(\"4.Divide\")\n",
    "\n",
    "while True:\n",
    "    # take input from the user\n",
    "    choice = input(\"Enter choice(1/2/3/4): \")\n",
    "\n",
    "    # check if choice is one of the four options\n",
    "    if choice in ('1', '2', '3', '4'):\n",
    "        num1 = float(input(\"Enter first number: \"))\n",
    "        num2 = float(input(\"Enter second number: \"))\n",
    "\n",
    "        if choice == '1':\n",
    "            print(num1, \"+\", num2, \"=\", add(num1, num2))\n",
    "\n",
    "        elif choice == '2':\n",
    "            print(num1, \"-\", num2, \"=\", subtract(num1, num2))\n",
    "\n",
    "        elif choice == '3':\n",
    "            print(num1, \"*\", num2, \"=\", multiply(num1, num2))\n",
    "\n",
    "        elif choice == '4':\n",
    "            print(num1, \"/\", num2, \"=\", divide(num1, num2))\n",
    "        \n",
    "        # check if user wants another calculation\n",
    "        # break the while loop if answer is no\n",
    "        next_calculation = input(\"Let's do next calculation? (yes/no): \")\n",
    "        if next_calculation == \"no\":\n",
    "          break\n",
    "    \n",
    "    else:\n",
    "        print(\"Invalid Input\")"
   ]
  },
  {
   "cell_type": "code",
   "execution_count": null,
   "id": "ed127345",
   "metadata": {},
   "outputs": [],
   "source": []
  },
  {
   "cell_type": "code",
   "execution_count": null,
   "id": "da403be9",
   "metadata": {},
   "outputs": [],
   "source": []
  }
 ],
 "metadata": {
  "kernelspec": {
   "display_name": "Python 3 (ipykernel)",
   "language": "python",
   "name": "python3"
  },
  "language_info": {
   "codemirror_mode": {
    "name": "ipython",
    "version": 3
   },
   "file_extension": ".py",
   "mimetype": "text/x-python",
   "name": "python",
   "nbconvert_exporter": "python",
   "pygments_lexer": "ipython3",
   "version": "3.9.7"
  }
 },
 "nbformat": 4,
 "nbformat_minor": 5
}
