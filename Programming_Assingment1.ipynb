{
 "cells": [
  {
   "cell_type": "markdown",
   "id": "cbd76c83",
   "metadata": {},
   "source": [
    "# 1.\tWrite a Python program to print \"Hello Python\"?"
   ]
  },
  {
   "cell_type": "code",
   "execution_count": 1,
   "id": "6c672940",
   "metadata": {},
   "outputs": [
    {
     "name": "stdout",
     "output_type": "stream",
     "text": [
      "Hello Python\n"
     ]
    }
   ],
   "source": [
    "print(\"Hello Python\")"
   ]
  },
  {
   "cell_type": "markdown",
   "id": "2e1a59c9",
   "metadata": {},
   "source": [
    "# 2.\tWrite a Python program to do arithmetical operations addition and division.?"
   ]
  },
  {
   "cell_type": "code",
   "execution_count": 4,
   "id": "dbea9af0",
   "metadata": {},
   "outputs": [
    {
     "name": "stdout",
     "output_type": "stream",
     "text": [
      "Enter the first operand 10\n",
      "Enter the second Operand 5\n",
      "the addition result is  15\n",
      "the division reslut is  2.0\n"
     ]
    }
   ],
   "source": [
    "a=int(input(\"Enter the first operand \"))\n",
    "b=int(input(\"Enter the second Operand \"))\n",
    "try:\n",
    "    c=a+b\n",
    "    d=a/b\n",
    "    print(\"the addition result is \", c)\n",
    "    print(\"the division reslut is \", d)\n",
    "except Exception as e:\n",
    "    print(\"Exception occured \",e)"
   ]
  },
  {
   "cell_type": "markdown",
   "id": "c340167d",
   "metadata": {},
   "source": [
    "# 3.\tWrite a Python program to find the area of a triangle?"
   ]
  },
  {
   "cell_type": "code",
   "execution_count": 9,
   "id": "aadd8a20",
   "metadata": {},
   "outputs": [
    {
     "name": "stdout",
     "output_type": "stream",
     "text": [
      "Enter the first side value 3\n",
      "Enter the second side value 4\n",
      "Enter the third side value 5\n",
      "the area of traingle is  6.0\n"
     ]
    }
   ],
   "source": [
    "a=int(input(\"Enter the first side value \"))\n",
    "b=int(input(\"Enter the second side value \"))\n",
    "c=int(input(\"Enter the third side value \"))\n",
    "s=(a+b+c)/2\n",
    "area=math.sqrt(s*(s-a)*(s-b)*(s-c))\n",
    "print(\"the area of traingle is \", area)"
   ]
  },
  {
   "cell_type": "markdown",
   "id": "0cdd7b4e",
   "metadata": {},
   "source": [
    "# 4.\tWrite a Python program to swap two variables?"
   ]
  },
  {
   "cell_type": "code",
   "execution_count": 12,
   "id": "5622634c",
   "metadata": {},
   "outputs": [
    {
     "name": "stdout",
     "output_type": "stream",
     "text": [
      "Enter the first  value 10\n",
      "Enter the second  value 20\n",
      "Values of varaible a and b is  20 10\n"
     ]
    }
   ],
   "source": [
    "a=input(\"Enter the first  value \")\n",
    "b=input(\"Enter the second  value \")\n",
    "c=a\n",
    "a=b\n",
    "b=c\n",
    "print(\"Values of varaible a and b is \", a,b)"
   ]
  },
  {
   "cell_type": "markdown",
   "id": "c0c68216",
   "metadata": {},
   "source": [
    "# 5.\tWrite a Python program to generate a random number?"
   ]
  },
  {
   "cell_type": "code",
   "execution_count": 18,
   "id": "e7b8699a",
   "metadata": {},
   "outputs": [
    {
     "name": "stdout",
     "output_type": "stream",
     "text": [
      "the random number is  0.14950670411606626\n"
     ]
    }
   ],
   "source": [
    "import random\n",
    "a=random.random()\n",
    "print (\"the random number is \", a)"
   ]
  },
  {
   "cell_type": "code",
   "execution_count": null,
   "id": "d4a67dda",
   "metadata": {},
   "outputs": [],
   "source": []
  }
 ],
 "metadata": {
  "kernelspec": {
   "display_name": "Python 3 (ipykernel)",
   "language": "python",
   "name": "python3"
  },
  "language_info": {
   "codemirror_mode": {
    "name": "ipython",
    "version": 3
   },
   "file_extension": ".py",
   "mimetype": "text/x-python",
   "name": "python",
   "nbconvert_exporter": "python",
   "pygments_lexer": "ipython3",
   "version": "3.9.7"
  }
 },
 "nbformat": 4,
 "nbformat_minor": 5
}
